{
 "cells": [
  {
   "cell_type": "code",
   "execution_count": null,
   "id": "96b45b83",
   "metadata": {},
   "outputs": [],
   "source": [
    "import pandas as pd\n",
    "import os\n",
    "\n",
    "directory = r'C:\\Users\\salom\\Statistics'\n",
    "\n",
    "data_frames = []\n",
    "\n",
    "for filename in os.listdir(directory):\n",
    "    if filename.endswith('.txt'):  \n",
    "        filepath = os.path.join(directory, filename)\n",
    "        \n",
    "        \n",
    "        df = pd.read_csv(filepath, delimiter='\\t')\n",
    "        \n",
    "        # Append the DataFrame to the list\n",
    "        data_frames.append(df)\n",
    "\n",
    "# Concatenate all DataFrames in the list into one DataFrame\n",
    "data = pd.concat(data_frames, ignore_index=True)\n",
    "\n",
    "\n",
    "print(data)\n"
   ]
  },
  {
   "cell_type": "code",
   "execution_count": null,
   "id": "3c626288",
   "metadata": {},
   "outputs": [],
   "source": [
    "data['cellviability_difference_wt'] = data[['CellViability.WT.Rep1', 'CellViability.WT.Rep2', 'CellViability.WT.Rep3']].mean(axis=1)\n",
    "\n",
    "print(data['cellviability_difference_wt']) "
   ]
  },
  {
   "cell_type": "code",
   "execution_count": null,
   "id": "08373ebe",
   "metadata": {},
   "outputs": [],
   "source": [
    "data['cellviability_difference_mut'] = data[['CellViability.Mut.Rep1', 'CellViability.Mut.Rep2', 'CellViability.Mut.Rep3']].mean(axis=1)\n",
    "\n",
    "print(data['cellviability_difference_mut']) "
   ]
  },
  {
   "cell_type": "code",
   "execution_count": null,
   "id": "0440e532",
   "metadata": {},
   "outputs": [],
   "source": [
    "data['mRNA_expression_wt'] = data[['mRNA.Expression.WT.Rep1', 'mRNA.Expression.WT.Rep2', 'mRNA.Expression.WT.Rep3']].mean(axis=1)\n",
    "\n",
    "print(data['mRNA_expression_wt'])"
   ]
  },
  {
   "cell_type": "code",
   "execution_count": null,
   "id": "ebf36e35",
   "metadata": {},
   "outputs": [],
   "source": [
    "data['mRNA_Expression_mut'] = data[['mRNA.Expression.Mut.Rep1', 'mRNA.Expression.Mut.Rep2', 'mRNA.Expression.Mut.Rep3']].mean(axis=1)\n",
    "\n",
    "print(data['mRNA_Expression_mut']) "
   ]
  },
  {
   "cell_type": "code",
   "execution_count": null,
   "id": "711c72be",
   "metadata": {},
   "outputs": [],
   "source": [
    "data['Protein_Expression_wt'] = data[['Protein.Expression.WT.Rep1', 'Protein.Expression.WT.Rep2', 'Protein.Expression.WT.Rep3']].mean(axis=1)\n",
    "\n",
    "print(data['Protein_Expression_wt']) "
   ]
  },
  {
   "cell_type": "code",
   "execution_count": null,
   "id": "e7c1d78f",
   "metadata": {},
   "outputs": [],
   "source": [
    "data['Protein_Expression_mut'] = data[['Protein.Expression.Mut.Rep1', 'Protein.Expression.Mut.Rep2', 'Protein.Expression.Mut.Rep3']].mean(axis=1)\n",
    "\n",
    "print(data['Protein_Expression_mut']) "
   ]
  },
  {
   "cell_type": "code",
   "execution_count": null,
   "id": "d606da01",
   "metadata": {},
   "outputs": [],
   "source": [
    "# function to determine compare expresssion of cell viability\n",
    "def compare_expression(wildtype, mutant):\n",
    "    results = []\n",
    "    for wt_value, mut_value in zip(wildtype, mutant):\n",
    "        if wt_value < mut_value:\n",
    "            results.append(\"Increase\")\n",
    "        elif wt_value > mut_value:\n",
    "            results.append(\"Decrease\")\n",
    "        else:\n",
    "            results.append(\"No effect\")\n",
    "    return results\n",
    "\n",
    "cellviability_difference_wt = data['cellviability_difference_wt']\n",
    "cellviability_difference_mut = data['cellviability_difference_mut']\n",
    "\n",
    "# Compare data\n",
    "comparison_result = compare_expression(cellviability_difference_wt, cellviability_difference_mut)\n",
    "\n",
    "\n",
    "# Add data\n",
    "data['Cell viability'] = comparison_result\n",
    "\n",
    "\n",
    "print(data['Cell viability'])\n"
   ]
  },
  {
   "cell_type": "code",
   "execution_count": null,
   "id": "53b61652",
   "metadata": {},
   "outputs": [],
   "source": [
    "# function to determine compare expresssion of mRNA expression\n",
    "def compare_expression(wildtype, mutant):\n",
    "    results = []\n",
    "    for wt_value, mut_value in zip(wildtype, mutant):\n",
    "        if wt_value < mut_value:\n",
    "            results.append(\"Increase\")\n",
    "        elif wt_value > mut_value:\n",
    "            results.append(\"Decrease\")\n",
    "        else:\n",
    "            results.append(\"No effect\")\n",
    "    return results\n",
    "\n",
    "mRNA_expression_wt = data['mRNA_expression_wt']\n",
    "mRNA_expression_mut = data['mRNA_Expression_mut']\n",
    "\n",
    "#compare data\n",
    "comparison_result = compare_expression(mRNA_expression_wt, mRNA_expression_mut)\n",
    "\n",
    "#add to data frame\n",
    "data['mRNA Expression'] = comparison_result\n",
    "\n",
    "print(data['mRNA Expression'])\n"
   ]
  },
  {
   "cell_type": "code",
   "execution_count": null,
   "id": "10e0d399",
   "metadata": {},
   "outputs": [],
   "source": [
    "# function to determine compare expresssion of protein expression\n",
    "def compare_expression(wildtype, mutant):\n",
    "    results = []\n",
    "    for wt_value, mut_value in zip(wildtype, mutant):\n",
    "        if wt_value < mut_value:\n",
    "            results.append(\"Increase\")\n",
    "        elif wt_value > mut_value:\n",
    "            results.append(\"Decrease\")\n",
    "        else:\n",
    "            results.append(\"No effect\")\n",
    "    return results\n",
    "\n",
    "Protein_Expression_wt = data['Protein_Expression_wt']\n",
    "Protein_Expression_mut = data['Protein_Expression_mut']\n",
    "\n",
    "# compare data\n",
    "comparison_result = compare_expression(Protein_Expression_wt, Protein_Expression_mut)\n",
    "\n",
    "# add to data frame\n",
    "data['Protein Expression'] = comparison_result\n",
    "\n",
    "print(data['Protein Expression'])\n",
    "\n"
   ]
  },
  {
   "cell_type": "code",
   "execution_count": null,
   "id": "f42c0d7a",
   "metadata": {},
   "outputs": [],
   "source": [
    "# function to determine mutation type\n",
    "def mutation_type(wildtype, mutant):\n",
    "    \n",
    "    mutation_types = []\n",
    "    \n",
    "    # Iterate over the wildtype and mutant sequences \n",
    "    for wt_seq, mut_seq in zip(wildtype, mutant):\n",
    "        \n",
    "        if len(wt_seq) == len(mut_seq):\n",
    "            \n",
    "            if wt_seq == mut_seq:\n",
    "                mutation_types.append(\"No mutation\")\n",
    "            else:\n",
    "                mutation_types.append(\"Substitution\")\n",
    "        \n",
    "        elif len(wt_seq) < len(mut_seq):\n",
    "            mutation_types.append(\"Insertion\")\n",
    "        \n",
    "        else:\n",
    "            mutation_types.append(\"Deletion\")\n",
    "    \n",
    "    return mutation_types\n",
    "\n",
    "wildtype = data['WildType.Sequence']\n",
    "mutant = data['Mutant.Sequence']\n",
    "\n",
    "mutation_types = mutation_type(wildtype, mutant)\n",
    "\n",
    "# Add data\n",
    "data['Mutation types'] = mutation_types\n",
    "\n",
    "\n",
    "print(data['Mutation types'])\n",
    "      \n"
   ]
  },
  {
   "cell_type": "code",
   "execution_count": null,
   "id": "1e7d0938",
   "metadata": {},
   "outputs": [],
   "source": [
    "def mutation_location(wildtype_seq, mutant_seq):\n",
    "    '''Identifying mutation location\n",
    "    inputs are wildtype and mutant sequences, both are strings\n",
    "    out is a mutation position (Promoter, CDS, Both), string '''\n",
    "    \n",
    "    mutation_location = []\n",
    "    \n",
    "    for wt_seq, mt_seq in zip(wildtype_seq, mutant_seq):\n",
    "        if len(mt_seq) <= 1000:\n",
    "            if mt_seq != wt_seq:\n",
    "                mutation_location.append(\"Promoter\") \n",
    "                \n",
    "        else:\n",
    "            if mt_seq[:1000] != wt_seq[:1000] and mt_seq[1000:] != wt_seq[1000:]:\n",
    "                mutation_location.append(\"Promoter, CDS\") \n",
    "                \n",
    "            elif mt_seq[:1000] != wt_seq[:1000] and mt_seq[1000:] == wt_seq[1000:]:\n",
    "                mutation_location.append(\"Promoter\") \n",
    "                \n",
    "            elif mt_seq[:1000] == wt_seq[:1000] and mt_seq[1000:] != wt_seq[1000:]:\n",
    "                mutation_location.append(\"CDS\") \n",
    "                \n",
    "    return mutation_location \n",
    "\n",
    "wildtype_seq = data['WildType.Sequence']\n",
    "mutant_seq = data['Mutant.Sequence']\n",
    "\n",
    "mutation_locations = mutation_location(wildtype, mutant)\n",
    "\n",
    "data['Mutation location'] = mutation_locations\n",
    "\n",
    "print(data['Mutation location'])\n"
   ]
  },
  {
   "cell_type": "code",
   "execution_count": null,
   "id": "a9ea5e4e",
   "metadata": {},
   "outputs": [],
   "source": [
    "Data_for_analysis_summary_table = data[['Gene', 'Mutation types', 'Mutation location', 'Cell viability', 'mRNA Expression', 'Protein Expression']]\n",
    "\n",
    "print(Data_for_analysis_summary_table)"
   ]
  },
  {
   "cell_type": "code",
   "execution_count": null,
   "id": "9a936bfe",
   "metadata": {},
   "outputs": [],
   "source": [
    "#based on the Data_for_analysis_summary_table my recommandation is for the following genes: "
   ]
  },
  {
   "cell_type": "code",
   "execution_count": null,
   "id": "2e475640",
   "metadata": {},
   "outputs": [],
   "source": [
    "import seaborn as sns\n",
    "import matplotlib.pyplot as plt\n",
    "\n",
    "fig, axes = plt.subplots(1, 2, figsize=(16, 6))\n",
    "\n",
    "# kernel density plot for cell viability of mutant cells\n",
    "sns.kdeplot(data=data, x='cellviability_difference_mut', hue='Mutation types', ax=axes[0])\n",
    "\n",
    "\n",
    "axes[0].set_xlabel('Cell Viability (Mutant)')\n",
    "axes[0].set_ylabel('Density')\n",
    "axes[0].set_title('Kernel Density Plot of Cell Viability for Mutant Cells by Mutation Type')\n",
    "\n",
    "# box plot for mRNA expression in mutant \n",
    "sns.boxplot(data=data, x='Mutation types', y='mRNA_Expression_mut', hue='Mutation types', ax=axes[1])\n",
    "\n",
    "\n",
    "axes[1].set_xlabel('Mutation types')\n",
    "axes[1].set_ylabel('mRNA_Expression_mut')\n",
    "axes[1].set_title('Box Plot of mRNA Expression in Mutant by Mutation Type')\n",
    "axes[1].set_yscale('log')  \n",
    "\n",
    "\n",
    "plt.tight_layout()\n",
    "\n",
    "\n",
    "plt.show()\n"
   ]
  },
  {
   "cell_type": "code",
   "execution_count": null,
   "id": "2ca3b603",
   "metadata": {},
   "outputs": [],
   "source": [
    "\n",
    "fig, axes = plt.subplots(3, 1, figsize=(15, 18))\n",
    "\n",
    "# Sub plot for Cell Viability Difference \n",
    "axes[0].scatter(data['Gene'], data['cellviability_difference_wt'], label='Wild-type', color='blue')\n",
    "axes[0].scatter(data['Gene'], data['cellviability_difference_mut'], label='Mutant', color='red')\n",
    "axes[0].set_xlabel('Gene Names')\n",
    "axes[0].set_ylabel('Cell Viability Difference')\n",
    "axes[0].set_title('Cell Viability Difference of Wild-type vs Mutant Genes')\n",
    "axes[0].legend()\n",
    "axes[0].tick_params(axis='x', rotation=45)\n",
    "axes[0].grid(True)\n",
    "\n",
    "# Sub plot for mRNA Expression Difference\n",
    "axes[1].scatter(data['Gene'], data['mRNA_expression_wt'], label='Wild-type', color='blue')\n",
    "axes[1].scatter(data['Gene'], data['mRNA_Expression_mut'], label='Mutant', color='red')\n",
    "axes[1].set_xlabel('Gene Names')\n",
    "axes[1].set_ylabel('mRNA Expression Difference')\n",
    "axes[1].set_title('mRNA Expression Difference of Wild-type vs Mutant Genes')\n",
    "axes[1].set_yscale('log')\n",
    "axes[1].legend()\n",
    "axes[1].tick_params(axis='x', rotation=45)\n",
    "axes[1].grid(True)\n",
    "\n",
    "# Sub plot for Protein Expression Difference \n",
    "axes[2].scatter(data['Gene'], data['Protein_Expression_wt'], label='Wild-type', color='blue')\n",
    "axes[2].scatter(data['Gene'], data['Protein_Expression_mut'], label='Mutant', color='red')\n",
    "axes[2].set_xlabel('Gene Names')\n",
    "axes[2].set_ylabel('Protein Expression Difference')\n",
    "axes[2].set_title('Protein Expression Difference of Wild-type vs Mutant Genes')\n",
    "axes[2].legend()\n",
    "axes[2].tick_params(axis='x', rotation=45)\n",
    "axes[2].grid(True)\n",
    "\n",
    "\n",
    "plt.tight_layout()\n",
    "plt.show()\n"
   ]
  },
  {
   "cell_type": "code",
   "execution_count": null,
   "id": "931f7da1",
   "metadata": {},
   "outputs": [],
   "source": [
    "data['Average_difference_mut'] = data[['mRNA_Expression_mut', 'Protein_Expression_mut', 'cellviability_difference_mut']].mean(axis=1)\n",
    "\n",
    "print(data['Average_difference_mut'])"
   ]
  },
  {
   "cell_type": "code",
   "execution_count": null,
   "id": "b89337f6",
   "metadata": {},
   "outputs": [],
   "source": [
    "data['Average_difference_wt'] = data[['mRNA_expression_wt', 'Protein_Expression_wt', 'cellviability_difference_wt']].mean(axis=1)\n",
    "\n",
    "print(data['Average_difference_wt'])"
   ]
  },
  {
   "cell_type": "code",
   "execution_count": null,
   "id": "6830da34",
   "metadata": {},
   "outputs": [],
   "source": [
    "# calculated the average of all variables and selected genes of interest\n",
    "\n",
    "genes_of_interest = ['Avon1a5', 'Avon4', 'Ben3l6', 'Cairn3a2', 'Cairn6', 'Daz2b7', 'Euk4r4', \n",
    "                    'Everr1', 'Fab6l6', 'Gorm6b6', 'Got9', 'Jams9r2', 'Jok4a3', 'Pear9a7', 'Ren8', 'Thxr']\n",
    "\n",
    "# new DataFrame \n",
    "new_df = data[data['Gene'].isin(genes_of_interest)]\n",
    "\n"
   ]
  },
  {
   "cell_type": "code",
   "execution_count": null,
   "id": "86977f63",
   "metadata": {
    "scrolled": true
   },
   "outputs": [],
   "source": [
    "# from the genes of interest top 5 genes based on higher difference in average of all variables\n",
    "\n",
    "top_5_genes = ['Avon1a5', 'Avon4', 'Cairn6', 'Gorm6b6', 'Jams9r2']\n",
    "\n",
    "#  a new DataFrame containing top_5_genes\n",
    "filtered_df = new_df[new_df['Gene'].isin(top_5_genes)]\n",
    "\n",
    "\n",
    "filtered_df.reset_index(drop=True, inplace=True)\n"
   ]
  },
  {
   "cell_type": "code",
   "execution_count": null,
   "id": "07d024b1",
   "metadata": {},
   "outputs": [],
   "source": [
    "#creating two plots\n",
    "\n",
    "fig, axes = plt.subplots(1, 2, figsize=(16, 6))\n",
    "\n",
    "# Difference between Average_difference_mut and Average_difference_wt \n",
    "axes[0].scatter(new_df['Gene'], new_df['Average_difference_wt'], label='Wild-type', color='green')\n",
    "axes[0].scatter(new_df['Gene'], new_df['Average_difference_mut'], label='Mutant-type', color='orange')\n",
    "axes[0].set_xlabel('Gene')\n",
    "axes[0].set_ylabel('Difference')\n",
    "axes[0].set_title('Difference between Average difference in wildtype and mutant')\n",
    "axes[0].set_yscale('log')\n",
    "axes[0].legend()\n",
    "axes[0].tick_params(axis='x', rotation=45)\n",
    "axes[0].grid(True)\n",
    "\n",
    "# bar plot comparing wild-type and mutant-type \n",
    "\n",
    "bar_width = 0.35\n",
    "r1 = range(len(filtered_df))\n",
    "\n",
    "axes[1].bar([x - bar_width/2 for x in r1], filtered_df['cellviability_difference_wt'], \n",
    "            width=bar_width, color='green', label='Wild-type')\n",
    "\n",
    "axes[1].bar([x + bar_width/2 for x in r1], filtered_df['cellviability_difference_mut'], \n",
    "            width=bar_width, color='orange', label='Mutant-type')\n",
    "\n",
    "axes[1].set_xlabel('Gene')\n",
    "axes[1].set_ylabel('Cell viability')\n",
    "axes[1].set_title('Comparison of Cell viability between Wild-type and Mutant-type')\n",
    "\n",
    "\n",
    "axes[1].set_xticks(r1)\n",
    "axes[1].set_xticklabels(filtered_df['Gene'], rotation=45, ha='right')\n",
    "axes[1].legend()\n",
    "\n",
    "plt.tight_layout()\n",
    "plt.show()\n"
   ]
  },
  {
   "cell_type": "code",
   "execution_count": null,
   "id": "affde9dc",
   "metadata": {},
   "outputs": [],
   "source": []
  },
  {
   "cell_type": "code",
   "execution_count": null,
   "id": "75a05a49",
   "metadata": {},
   "outputs": [],
   "source": []
  },
  {
   "cell_type": "code",
   "execution_count": null,
   "id": "92838a22",
   "metadata": {},
   "outputs": [],
   "source": []
  },
  {
   "cell_type": "code",
   "execution_count": null,
   "id": "432983ab",
   "metadata": {},
   "outputs": [],
   "source": []
  },
  {
   "cell_type": "code",
   "execution_count": null,
   "id": "a6e3162e",
   "metadata": {},
   "outputs": [],
   "source": []
  },
  {
   "cell_type": "code",
   "execution_count": null,
   "id": "d480b9dc",
   "metadata": {},
   "outputs": [],
   "source": []
  },
  {
   "cell_type": "code",
   "execution_count": null,
   "id": "e9d988fd",
   "metadata": {},
   "outputs": [],
   "source": []
  },
  {
   "cell_type": "code",
   "execution_count": null,
   "id": "8f99e8c8",
   "metadata": {},
   "outputs": [],
   "source": []
  },
  {
   "cell_type": "code",
   "execution_count": null,
   "id": "aba3754a",
   "metadata": {},
   "outputs": [],
   "source": []
  },
  {
   "cell_type": "code",
   "execution_count": null,
   "id": "adb2bd8a",
   "metadata": {},
   "outputs": [],
   "source": []
  },
  {
   "cell_type": "code",
   "execution_count": null,
   "id": "e308d411",
   "metadata": {},
   "outputs": [],
   "source": []
  },
  {
   "cell_type": "code",
   "execution_count": null,
   "id": "74d46145",
   "metadata": {},
   "outputs": [],
   "source": []
  },
  {
   "cell_type": "code",
   "execution_count": null,
   "id": "1365c3b2",
   "metadata": {},
   "outputs": [],
   "source": []
  },
  {
   "cell_type": "code",
   "execution_count": null,
   "id": "177cab3b",
   "metadata": {},
   "outputs": [],
   "source": []
  },
  {
   "cell_type": "code",
   "execution_count": null,
   "id": "1ca51c30",
   "metadata": {},
   "outputs": [],
   "source": []
  },
  {
   "cell_type": "code",
   "execution_count": null,
   "id": "744c32db",
   "metadata": {},
   "outputs": [],
   "source": [
    "\n"
   ]
  },
  {
   "cell_type": "code",
   "execution_count": null,
   "id": "97cb0bbc",
   "metadata": {},
   "outputs": [],
   "source": []
  },
  {
   "cell_type": "code",
   "execution_count": null,
   "id": "3a18671a",
   "metadata": {},
   "outputs": [],
   "source": []
  },
  {
   "cell_type": "code",
   "execution_count": null,
   "id": "5fb827c4",
   "metadata": {},
   "outputs": [],
   "source": []
  },
  {
   "cell_type": "code",
   "execution_count": null,
   "id": "d3abdd0f",
   "metadata": {},
   "outputs": [],
   "source": []
  }
 ],
 "metadata": {
  "kernelspec": {
   "display_name": "Python 3 (ipykernel)",
   "language": "python",
   "name": "python3"
  },
  "language_info": {
   "codemirror_mode": {
    "name": "ipython",
    "version": 3
   },
   "file_extension": ".py",
   "mimetype": "text/x-python",
   "name": "python",
   "nbconvert_exporter": "python",
   "pygments_lexer": "ipython3",
   "version": "3.11.5"
  }
 },
 "nbformat": 4,
 "nbformat_minor": 5
}
